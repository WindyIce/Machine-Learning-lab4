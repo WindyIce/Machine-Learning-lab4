{
 "cells": [
  {
   "cell_type": "code",
   "execution_count": 2,
   "metadata": {},
   "outputs": [
    {
     "data": {
      "image/png": "[encoded data removed]",
      "text/plain": [
       "<matplotlib.figure.Figure at 0x1ec2c9ec128>"
      ]
     },
     "metadata": {},
     "output_type": "display_data"
    }
   ],
   "source": [
    "import numpy as np\n",
    "import matplotlib.pyplot as plot\n",
    "\n",
    "def loadMovieDataAsMat(filename):\n",
    "    rows=len(open(filename,'r').readlines())\n",
    "    R=np.zeros((rows,4))\n",
    "    counter=0\n",
    "    for line in open(filename,'r'):\n",
    "        (R[counter][0],R[counter][1],R[counter][2],R[counter][3])=line.split('\\t')\n",
    "        counter+=1\n",
    "    return R\n",
    "TrainData=loadMovieDataAsMat('u1.base')\n",
    "TestData=loadMovieDataAsMat('u1.test')\n",
    "def initialScoringMat():\n",
    "    maxUid=-1\n",
    "    maxMid=-1\n",
    "    for each in TrainData:\n",
    "        if(each[0]>maxUid):maxUid=each[0]\n",
    "        if(each[1]>maxMid):maxMid=each[1]\n",
    "    R=np.zeros((int(maxUid),int(maxMid)))\n",
    "    for each in TrainData:\n",
    "        R[int(each[0]-1)][int(each[1]-1)]=each[2]\n",
    "    return R\n",
    "R=initialScoringMat()\n",
    "# Initialize Parameters\n",
    "K=6\n",
    "learning_rate=0.001\n",
    "penalty_factor=0.5\n",
    "rows=R.shape[0]     # Numbers of users.Be Attention that the row 0 refer to userid 1\n",
    "columns=R.shape[1]  # Numbers of movies.Be Attention that the row 0 refer to movieid 1\n",
    "P=np.ones((rows,K))\n",
    "Q=np.ones((columns,K))\n",
    "xPlot=[]\n",
    "yPlot=[]\n",
    "\n",
    "def matrix_factorization(R, P, Q, K, steps=100, alpha=0.002, beta=0.02):\n",
    "    Q = Q.T\n",
    "    for step in range(steps):\n",
    "        for i in range(R.shape[0]):\n",
    "            for j in range(R.shape[1]):\n",
    "                if R[i][j] > 0:\n",
    "                    eij = R[i][j] - np.dot(P[i, :], Q[:, j])\n",
    "                    for k in range(K):\n",
    "                        P[i][k] = P[i][k] + alpha * (2 * eij * Q[k][j] - beta * P[i][k])\n",
    "                        Q[k][j] = Q[k][j] + alpha * (2 * eij * P[i][k] - beta * Q[k][j])\n",
    "        eR = np.dot(P, Q)\n",
    "        e = 0\n",
    "        for i in range(R.shape[0]):\n",
    "            for j in range(R.shape[1]):\n",
    "                if R[i][j] > 0:\n",
    "                    e = e + pow(R[i][j] - np.dot(P[i, :], Q[:, j]), 2)\n",
    "                    for k in range(K):\n",
    "                        e = e + (beta / 2) * (pow(P[i][k], 2) + pow(Q[k][j], 2))\n",
    "        if e < 0.001:\n",
    "            break\n",
    "        # 这里加入算Loss！\n",
    "        loss = compute_loss(eR)\n",
    "        xPlot.append(step)\n",
    "        yPlot.append(loss)\n",
    "\n",
    "    return P, Q.T\n",
    "\n",
    "def compute_loss(R):\n",
    "    loss=0\n",
    "    for each in TestData:\n",
    "        userid,movieid,rating=each[0],each[1],each[2]\n",
    "        predict_rating=R[int(userid)-1][int(movieid)-1]     # 注意这里，还是要减一！\n",
    "        loss+=pow(predict_rating-rating,2)\n",
    "    return loss/rows\n",
    "if __name__ == \"__main__\":\n",
    "    matrix_factorization(R,P,Q,K)\n",
    "    plot.figure(1)\n",
    "    plot.subplot(111)\n",
    "    plot.title('During the training')\n",
    "    plot.xlabel('Rounds')\n",
    "    plot.ylabel('Loss')\n",
    "    plot.plot(np.array(xPlot), np.array(yPlot), color=\"blue\", linewidth=1.0, linestyle=\"-\", label=\"Validation Set\")\n",
    "    plot.show()\n"
   ]
  },
  {
   "cell_type": "code",
   "execution_count": null,
   "metadata": {
    "collapsed": true
   },
   "outputs": [],
   "source": []
  }
 ],
 "metadata": {
  "kernelspec": {
   "display_name": "Python 3",
   "language": "python",
   "name": "python3"
  },
  "language_info": {
   "codemirror_mode": {
    "name": "ipython",
    "version": 3
   },
   "file_extension": ".py",
   "mimetype": "text/x-python",
   "name": "python",
   "nbconvert_exporter": "python",
   "pygments_lexer": "ipython3",
   "version": "3.6.3"
  }
 },
 "nbformat": 4,
 "nbformat_minor": 2
}
